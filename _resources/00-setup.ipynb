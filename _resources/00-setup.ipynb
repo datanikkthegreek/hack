{
 "cells": [
  {
   "cell_type": "code",
   "execution_count": 0,
   "metadata": {
    "application/vnd.databricks.v1+cell": {
     "cellMetadata": {
      "byteLimit": 2048000,
      "rowLimit": 10000
     },
     "inputWidgets": {},
     "nuid": "71e444c0-7640-47fb-a306-169d29386fd8",
     "showTitle": false,
     "tableResultSettingsMap": {},
     "title": ""
    }
   },
   "outputs": [],
   "source": [
    "dbutils.widgets.dropdown(\"reset_all_data\", \"false\", [\"true\", \"false\"], \"Reset all data\")\n",
    "reset_all_data = dbutils.widgets.get(\"reset_all_data\") == \"true\""
   ]
  },
  {
   "cell_type": "code",
   "execution_count": 0,
   "metadata": {
    "application/vnd.databricks.v1+cell": {
     "cellMetadata": {
      "byteLimit": 2048000,
      "rowLimit": 10000
     },
     "inputWidgets": {},
     "nuid": "61631d37-f7fb-42d5-8a8b-c9779ee3706d",
     "showTitle": false,
     "tableResultSettingsMap": {},
     "title": ""
    },
    "jupyter": {
     "outputs_hidden": true
    }
   },
   "outputs": [],
   "source": [
    "%run ../config"
   ]
  },
  {
   "cell_type": "code",
   "execution_count": 0,
   "metadata": {
    "application/vnd.databricks.v1+cell": {
     "cellMetadata": {
      "byteLimit": 2048000,
      "rowLimit": 10000
     },
     "inputWidgets": {},
     "nuid": "530728ec-645e-4854-b83a-43905fd96df6",
     "showTitle": false,
     "tableResultSettingsMap": {},
     "title": ""
    },
    "jupyter": {
     "outputs_hidden": true
    }
   },
   "outputs": [],
   "source": [
    "%run ./00-global-setup-v2"
   ]
  },
  {
   "cell_type": "code",
   "execution_count": 0,
   "metadata": {
    "application/vnd.databricks.v1+cell": {
     "cellMetadata": {
      "byteLimit": 2048000,
      "rowLimit": 10000
     },
     "inputWidgets": {},
     "nuid": "5cce38a3-6104-4ea8-a6bf-bbe11a5c29c5",
     "showTitle": false,
     "tableResultSettingsMap": {},
     "title": ""
    }
   },
   "outputs": [],
   "source": [
    "DBDemos.setup_schema(catalog, db, reset_all_data, volume_name)\n",
    "folder = f\"/Volumes/{catalog}/{db}/{volume_name}\"\n",
    "\n",
    "data_missing = DBDemos.is_any_folder_empty([folder+\"/customers\", folder+\"/transactions\", folder+\"/country_code\", folder+\"/fraud_report\"])"
   ]
  },
  {
   "cell_type": "code",
   "execution_count": 0,
   "metadata": {
    "application/vnd.databricks.v1+cell": {
     "cellMetadata": {
      "byteLimit": 2048000,
      "rowLimit": 10000
     },
     "inputWidgets": {},
     "nuid": "37bf2b55-f1e3-4fdc-b794-a4e875135912",
     "showTitle": false,
     "tableResultSettingsMap": {},
     "title": ""
    }
   },
   "outputs": [],
   "source": [
    "import os\n",
    "import requests\n",
    "import timeit\n",
    "import time\n",
    "from datetime import datetime\n",
    "\n",
    "if reset_all_data or data_missing:\n",
    "  print(\"data_missing, re-loading data\")\n",
    "  if reset_all_data:\n",
    "    assert len(folder) > 15 and folder.startswith(\"/Volumes/\")\n",
    "    dbutils.fs.rm(folder, True)\n",
    "  try:\n",
    "    #credit_bureau\n",
    "    DBDemos.download_file_from_git(folder+'/customers_parquet', \"databricks-demos\", \"dbdemos-dataset\", \"/fsi/fraud-transaction/customers\")\n",
    "    #transactions\n",
    "    DBDemos.download_file_from_git(folder+'/transactions_parquet', \"databricks-demos\", \"dbdemos-dataset\", \"/fsi/fraud-transaction/transactions\")\n",
    "    #countries\n",
    "    DBDemos.download_file_from_git(folder+'/country_code', \"databricks-demos\", \"dbdemos-dataset\", \"/fsi/fraud-transaction/country_code\")\n",
    "    #countries\n",
    "    DBDemos.download_file_from_git(folder+'/fraud_report_parquet', \"databricks-demos\", \"dbdemos-dataset\", \"/fsi/fraud-transaction/fraud_report\")\n",
    "    def write_to(folder, output_format, output_folder):\n",
    "      spark.read.format('parquet').load(folder).repartition(16).write.format(output_format).option('header', 'true').mode('overwrite').save(output_folder)\n",
    "    \n",
    "    from concurrent.futures import ThreadPoolExecutor, as_completed\n",
    "    with ThreadPoolExecutor(max_workers=3) as executor:\n",
    "      [future.result() for future in as_completed([\n",
    "          executor.submit(write_to, folder+'/transactions_parquet', 'json', folder+'/transactions'),\n",
    "          executor.submit(write_to, folder+'/customers_parquet', 'csv', folder+'/customers'),\n",
    "          executor.submit(write_to, folder+'/fraud_report_parquet', 'csv', folder+'/fraud_report')\n",
    "      ])]\n",
    "    \n",
    "  except Exception as e: \n",
    "    print(f\"Error trying to download the file from the repo: {str(e)}.\")    "
   ]
  },
  {
   "cell_type": "code",
   "execution_count": 0,
   "metadata": {
    "application/vnd.databricks.v1+cell": {
     "cellMetadata": {
      "byteLimit": 2048000,
      "rowLimit": 10000
     },
     "inputWidgets": {},
     "nuid": "c9f66433-8bc2-4bee-9e7c-cfe190b8f50c",
     "showTitle": false,
     "tableResultSettingsMap": {},
     "title": ""
    }
   },
   "outputs": [],
   "source": [
    "import plotly.express as px\n",
    "from plotly.subplots import make_subplots\n",
    "import plotly.graph_objects as go\n",
    "\n",
    "# Helper function\n",
    "def get_latest_model_version(model_name):\n",
    "    from mlflow.tracking import MlflowClient\n",
    "    mlflow_client = MlflowClient(registry_uri=\"databricks-uc\")\n",
    "    latest_version = 1\n",
    "    for mv in mlflow_client.search_model_versions(f\"name='{model_name}'\"):\n",
    "        version_int = int(mv.version)\n",
    "        if version_int > latest_version:\n",
    "            latest_version = version_int\n",
    "    return latest_version\n",
    "\n",
    "\n",
    "#Fix pandas version to avoid conflict and support most DBR in the demo\n",
    "def force_pandas_version(run_id):\n",
    "    import os\n",
    "    import shutil\n",
    "    import yaml\n",
    "    import tempfile\n",
    "    import mlflow\n",
    "    from mlflow.tracking import MlflowClient\n",
    "\n",
    "    # setup local dir for downloading the artifacts\n",
    "    tmp_dir = str(tempfile.TemporaryDirectory().name)\n",
    "    os.makedirs(tmp_dir)\n",
    "\n",
    "    # fix conda.yaml\n",
    "    conda_file_path = mlflow.artifacts.download_artifacts(artifact_uri = f\"runs:/{run_id}/model/conda.yaml\", dst_path=tmp_dir)\n",
    "    with open(conda_file_path) as f:\n",
    "        conda_libs = yaml.load(f, Loader=yaml.FullLoader)\n",
    "    pandas_lib_exists = any([lib.startswith(\"pandas==\") for lib in conda_libs[\"dependencies\"][-1][\"pip\"]])\n",
    "    client = MlflowClient()\n",
    "    if not pandas_lib_exists:\n",
    "        print(\"Adding pandas dependency to conda.yaml\")\n",
    "        conda_libs[\"dependencies\"][-1][\"pip\"].append(\"pandas==1.5.3\")\n",
    "\n",
    "        with open(f\"{tmp_dir}/conda.yaml\", \"w\") as f:\n",
    "            f.write(yaml.dump(conda_libs))\n",
    "        client.log_artifact(run_id=run_id, local_path=conda_file_path, artifact_path=\"model\")\n",
    "\n",
    "    # fix requirements.txt\n",
    "    venv_file_path = mlflow.artifacts.download_artifacts(artifact_uri = f\"runs:/{run_id}/model/requirements.txt\", dst_path=tmp_dir)\n",
    "\n",
    "\n",
    "    with open(venv_file_path) as f:\n",
    "        venv_libs = f.readlines()\n",
    "    venv_libs = [lib.strip() for lib in venv_libs]\n",
    "    pandas_lib_exists = any([lib.startswith(\"pandas==\") for lib in venv_libs])\n",
    "    if not pandas_lib_exists:\n",
    "        print(\"Adding pandas dependency to requirements.txt\")\n",
    "        venv_libs.append(\"pandas==1.5.3\")\n",
    "\n",
    "        with open(f\"{tmp_dir}/requirements.txt\", \"w\") as f:\n",
    "            f.write(\"\\n\".join(venv_libs))\n",
    "        client.log_artifact(run_id=run_id, local_path=venv_file_path, artifact_path=\"model\")\n",
    "\n",
    "    shutil.rmtree(tmp_dir)"
   ]
  }
 ],
 "metadata": {
  "application/vnd.databricks.v1+notebook": {
   "computePreferences": null,
   "dashboards": [],
   "environmentMetadata": {
    "environment_version": "2"
   },
   "inputWidgetPreferences": null,
   "language": "python",
   "notebookMetadata": {
    "pythonIndentUnit": 2
   },
   "notebookName": "00-setup",
   "widgets": {
    "reset_all_data": {
     "currentValue": "false",
     "nuid": "ba221531-8a75-4af5-a546-fc24157bf463",
     "typedWidgetInfo": {
      "autoCreated": false,
      "defaultValue": "false",
      "label": "Reset all data",
      "name": "reset_all_data",
      "options": {
       "widgetDisplayType": "Dropdown",
       "choices": [
        "true",
        "false"
       ],
       "fixedDomain": true,
       "multiselect": false
      },
      "parameterDataType": "String"
     },
     "widgetInfo": {
      "widgetType": "dropdown",
      "defaultValue": "false",
      "label": "Reset all data",
      "name": "reset_all_data",
      "options": {
       "widgetType": "dropdown",
       "autoCreated": false,
       "choices": [
        "true",
        "false"
       ]
      }
     }
    }
   }
  },
  "language_info": {
   "name": "python"
  }
 },
 "nbformat": 4,
 "nbformat_minor": 0
}
