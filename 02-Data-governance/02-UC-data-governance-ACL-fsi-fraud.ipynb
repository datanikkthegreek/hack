{
 "cells": [
  {
   "cell_type": "markdown",
   "metadata": {
    "application/vnd.databricks.v1+cell": {
     "cellMetadata": {
      "byteLimit": 2048000,
      "rowLimit": 10000
     },
     "inputWidgets": {},
     "nuid": "3b790090-39e8-49fa-9b1a-6cc31e5fce47",
     "showTitle": false,
     "tableResultSettingsMap": {},
     "title": ""
    }
   },
   "source": [
    "# Ensuring Governance and security for our Banking platform\n",
    "\n",
    "Data governance and security is hard when it comes to a complete Data Platform. SQL GRANT on tables isn't enough and security must be enforced for multiple data assets (dashboards, Models, files etc).\n",
    "\n",
    "To reduce risks and driving innovation, Emily's team needs to:\n",
    "\n",
    "- Unify all data assets (Tables, Files, ML models, Features, Dashboards, Queries)\n",
    "- Onboard data with multiple teams\n",
    "- Share & monetize assets with external Organizations\n",
    "\n",
    "<style>\n",
    ".box{\n",
    "  box-shadow: 20px -20px #CCC; height:300px; box-shadow:  0 0 10px  rgba(0,0,0,0.3); padding: 5px 10px 0px 10px;}\n",
    ".badge {\n",
    "  clear: left; float: left; height: 30px; width: 30px;  display: table-cell; vertical-align: middle; border-radius: 50%; background: #fcba33ff; text-align: center; color: white; margin-right: 10px}\n",
    ".badge_b { \n",
    "  height: 35px}\n",
    "</style>\n",
    "<link href='https://fonts.googleapis.com/css?family=DM Sans' rel='stylesheet'>\n",
    "<div style=\"padding: 20px; font-family: 'DM Sans'; color: #1b5162\">\n",
    "  <div style=\"width:200px; float: left; text-align: center\">\n",
    "    <div class=\"box\" style=\"\">\n",
    "      <div style=\"font-size: 26px;\">\n",
    "        <strong>Team A</strong>\n",
    "      </div>\n",
    "      <div style=\"font-size: 13px\">\n",
    "        <img src=\"https://github.com/databricks-demos/dbdemos-resources/raw/main/images/da.png\" style=\"\" width=\"60px\"> <br/>\n",
    "        Data Analysts<br/>\n",
    "        <img src=\"https://github.com/databricks-demos/dbdemos-resources/raw/main/images/ds.png\" style=\"\" width=\"60px\"> <br/>\n",
    "        Data Scientists<br/>\n",
    "        <img src=\"https://github.com/databricks-demos/dbdemos-resources/raw/main/images/de.png\" style=\"\" width=\"60px\"> <br/>\n",
    "        Data Engineers\n",
    "      </div>\n",
    "    </div>\n",
    "    <div class=\"box\" style=\"height: 80px; margin: 20px 0px 50px 0px\">\n",
    "      <div style=\"font-size: 26px;\">\n",
    "        <strong>Team B</strong>\n",
    "      </div>\n",
    "      <div style=\"font-size: 13px\">...</div>\n",
    "    </div>\n",
    "  </div>\n",
    "  <div style=\"float: left; width: 400px; padding: 0px 20px 0px 20px\">\n",
    "    <div style=\"margin: 20px 0px 0px 20px\">Permissions on queries, dashboards</div>\n",
    "    <img src=\"https://github.com/databricks-demos/dbdemos-resources/raw/main/images/horizontal-arrow-dash.png\" style=\"width: 400px\">\n",
    "    <div style=\"margin: 20px 0px 0px 20px\">Permissions on tables, columns, rows</div>\n",
    "    <img src=\"https://github.com/databricks-demos/dbdemos-resources/raw/main/images/horizontal-arrow-dash.png\" style=\"width: 400px\">\n",
    "    <div style=\"margin: 20px 0px 0px 20px\">Permissions on features, ML models, endpoints, notebooks…</div>\n",
    "    <img src=\"https://github.com/databricks-demos/dbdemos-resources/raw/main/images/horizontal-arrow-dash.png\" style=\"width: 400px\">\n",
    "    <div style=\"margin: 20px 0px 0px 20px\">Permissions on files, jobs</div>\n",
    "    <img src=\"https://github.com/databricks-demos/dbdemos-resources/raw/main/images/horizontal-arrow-dash.png\" style=\"width: 400px\">\n",
    "  </div>\n",
    "  \n",
    "  <div class=\"box\" style=\"width:550px; float: left\">\n",
    "    <img src=\"https://github.com/databricks-demos/dbdemos-resources/raw/main/images/gov.png\" style=\"float: left; margin-right: 10px;\" width=\"80px\"> \n",
    "    <div style=\"float: left; font-size: 26px; margin-top: 0px; line-height: 17px;\"><strong>Emily</strong> <br />Governance and Security</div>\n",
    "    <div style=\"font-size: 18px; clear: left; padding-top: 10px\">\n",
    "      <ul style=\"line-height: 2px;\">\n",
    "        <li>Central catalog - all data assets</li>\n",
    "        <li>Data exploration & discovery to unlock new use-cases</li>\n",
    "        <li>Permissions cross-teams</li>\n",
    "        <li>Reduce risk with audit logs</li>\n",
    "        <li>Measure impact with lineage</li>\n",
    "      </ul>\n",
    "      + Monetize & Share data with external organization (Delta Sharing)\n",
    "    </div>\n",
    "  </div>\n",
    "  \n",
    "</div>\n",
    "\n",
    "<!-- Collect usage data (view). Remove it to disable collection. View README for more details.  -->\n",
    "<img width=\"1px\" src=\"https://ppxrzfxige.execute-api.us-west-2.amazonaws.com/v1/analytics?category=lakehouse&org_id=984752964297111&notebook=%2F02-Data-governance%2F02-UC-data-governance-ACL-fsi-fraud&demo_name=lakehouse-fsi-fraud&event=VIEW&path=%2F_dbdemos%2Flakehouse%2Flakehouse-fsi-fraud%2F02-Data-governance%2F02-UC-data-governance-ACL-fsi-fraud&version=1&user_hash=086247655aad7f847fc5af0bced92d31b6454844129a39a1b73eef221886867a\">"
   ]
  },
  {
   "cell_type": "markdown",
   "metadata": {
    "application/vnd.databricks.v1+cell": {
     "cellMetadata": {
      "byteLimit": 2048000,
      "rowLimit": 10000
     },
     "inputWidgets": {},
     "nuid": "87d09deb-59a3-4dd4-9fc4-bffea5ba5ab6",
     "showTitle": false,
     "tableResultSettingsMap": {},
     "title": ""
    }
   },
   "source": [
    "# Implementing a global data governance and security with Unity Catalog\n",
    "\n",
    "<img style=\"float: right; margin-top: 30px\" width=\"500px\" src=\"https://raw.githubusercontent.com/databricks-demos/dbdemos-resources/main/images/fsi/fraud-detection/lakehouse-fsi-fraud-overview-2.png\" />\n",
    "\n",
    "Let's see how the Lakehouse can solve this challenge leveraging Unity Catalog.\n",
    "\n",
    "Our Data has been saved as Delta Table by our Data Engineering team.  The next step is to secure this data while allowing cross team to access it. <br>\n",
    "A typical setup would be the following:\n",
    "\n",
    "* Data Engineers / Jobs can read and update the main data/schemas (ETL part)\n",
    "* Data Scientists can read the final tables and update their features tables\n",
    "* Data Analyst have READ access to the Data Engineering and Feature Tables and can ingest/transform additional data in a separate schema.\n",
    "* Data is masked/anonymized dynamically based on each user access level\n",
    "\n",
    "This is made possible by Unity Catalog. When tables are saved in the Unity Catalog, they can be made accessible to the entire organization, cross-workpsaces and cross users.\n",
    "\n",
    "Unity Catalog is key for data governance, including creating data products or organazing teams around datamesh. It brings among other:\n",
    "\n",
    "* Fined grained ACL\n",
    "* Audit log\n",
    "* Data lineage\n",
    "* Data exploration & discovery\n",
    "* Sharing data with external organization (Delta Sharing)"
   ]
  },
  {
   "cell_type": "markdown",
   "metadata": {
    "application/vnd.databricks.v1+cell": {
     "cellMetadata": {
      "byteLimit": 2048000,
      "rowLimit": 10000
     },
     "inputWidgets": {},
     "nuid": "52b4a182-45a3-4ff0-8b8b-2e5b7d0d3493",
     "showTitle": false,
     "tableResultSettingsMap": {},
     "title": ""
    }
   },
   "source": [
    "## Cluster setup for UC\n",
    "\n",
    "<img src=\"https://github.com/QuentinAmbard/databricks-demo/raw/main/product_demos/uc/uc-cluster-setup-single-user.png\" style=\"float: right\"/>\n",
    "\n",
    "\n",
    "To be able to run this demo, make sure you create a cluster with the security mode enabled.\n",
    "\n",
    "Go in the compute page, create a new cluster.\n",
    "\n",
    "Select \"Single User\" and your UC-user (the user needs to exist at the workspace and the account level)"
   ]
  },
  {
   "cell_type": "code",
   "execution_count": 0,
   "metadata": {
    "application/vnd.databricks.v1+cell": {
     "cellMetadata": {
      "byteLimit": 2048000,
      "rowLimit": 10000
     },
     "inputWidgets": {},
     "nuid": "2fb4f0c2-a6fe-4826-a981-8324da616781",
     "showTitle": false,
     "tableResultSettingsMap": {},
     "title": ""
    }
   },
   "outputs": [],
   "source": [
    "%run ../config"
   ]
  },
  {
   "cell_type": "code",
   "execution_count": 0,
   "metadata": {
    "application/vnd.databricks.v1+cell": {
     "cellMetadata": {
      "byteLimit": 2048000,
      "rowLimit": 10000
     },
     "inputWidgets": {},
     "nuid": "02808c45-7658-4670-bfeb-9b51e4be4197",
     "showTitle": false,
     "tableResultSettingsMap": {},
     "title": ""
    }
   },
   "outputs": [],
   "source": [
    "%python\n",
    "dbutils.widgets.text(\"catalog\", catalog)\n",
    "dbutils.widgets.text(\"schema\", schema)"
   ]
  },
  {
   "cell_type": "code",
   "execution_count": 0,
   "metadata": {
    "application/vnd.databricks.v1+cell": {
     "cellMetadata": {
      "byteLimit": 2048000,
      "rowLimit": 10000
     },
     "inputWidgets": {},
     "nuid": "41a7cdbb-e351-4197-aabd-a848b804478b",
     "showTitle": false,
     "tableResultSettingsMap": {},
     "title": ""
    },
    "jupyter": {
     "outputs_hidden": true
    }
   },
   "outputs": [],
   "source": [
    "%run ../_resources/00-setup $reset_all_data=false"
   ]
  },
  {
   "cell_type": "markdown",
   "metadata": {
    "application/vnd.databricks.v1+cell": {
     "cellMetadata": {
      "byteLimit": 2048000,
      "rowLimit": 10000
     },
     "inputWidgets": {},
     "nuid": "f8c026db-be45-4352-bfe4-78189aa775d7",
     "showTitle": false,
     "tableResultSettingsMap": {},
     "title": ""
    }
   },
   "source": [
    "## Exploring our Customer360 database\n",
    "\n",
    "<img src=\"https://github.com/QuentinAmbard/databricks-demo/raw/main/product_demos/uc/uc-base-1.png\" style=\"float: right\" width=\"800px\"/> \n",
    "\n",
    "Let's review the data created.\n",
    "\n",
    "Unity Catalog works with 3 layers:\n",
    "\n",
    "* CATALOG\n",
    "* SCHEMA (or DATABASE)\n",
    "* TABLE\n",
    "\n",
    "All unity catalog is available with SQL (`CREATE CATALOG IF NOT EXISTS my_catalog` ...)\n",
    "\n",
    "To access one table, you can specify the full path: `SELECT * FROM &lt;CATALOG&gt;.&lt;SCHEMA&gt;.&lt;TABLE&gt;`"
   ]
  },
  {
   "cell_type": "code",
   "execution_count": 0,
   "metadata": {
    "application/vnd.databricks.v1+cell": {
     "cellMetadata": {
      "byteLimit": 2048000,
      "rowLimit": 10000
     },
     "inputWidgets": {},
     "nuid": "03bec6b3-7db6-4708-ba3f-eb8d8ee2a58e",
     "showTitle": false,
     "tableResultSettingsMap": {},
     "title": ""
    }
   },
   "outputs": [],
   "source": [
    "-- the catalog has been created for your user and is defined as default. \n",
    "-- make sure you run the 00-setup cell above to init the catalog to your user. \n",
    "SELECT CURRENT_CATALOG();"
   ]
  },
  {
   "cell_type": "markdown",
   "metadata": {
    "application/vnd.databricks.v1+cell": {
     "cellMetadata": {
      "byteLimit": 2048000,
      "rowLimit": 10000
     },
     "inputWidgets": {},
     "nuid": "dce10e7b-b60a-42a1-abe6-f10a32008319",
     "showTitle": false,
     "tableResultSettingsMap": {},
     "title": ""
    }
   },
   "source": [
    "\n",
    "## Let's review the tables we created under our schema\n",
    "\n",
    "<img src=\"https://raw.githubusercontent.com/QuentinAmbard/databricks-demo/main/retail/resources/images/lakehouse-retail/lakehouse-retail-churn-data-explorer.gif\" style=\"float: right\" width=\"800px\"/> \n",
    "\n",
    "Unity Catalog provides a comprehensive Data Explorer that you can access on the left menu.\n",
    "\n",
    "You'll find all your tables, and can use it to access and administrate your tables.\n",
    "\n",
    "They'll be able to create extra table into this schema.\n",
    "\n",
    "### Discoverability \n",
    "\n",
    "In addition, Unity catalog also provides explorability and discoverability. \n",
    "\n",
    "Anyone having access to the tables will be able to search it and analyze its main usage. <br>\n",
    "You can use the Search menu (⌘ + P) to navigate in your data assets (tables, notebooks, queries...)"
   ]
  },
  {
   "cell_type": "markdown",
   "metadata": {
    "application/vnd.databricks.v1+cell": {
     "cellMetadata": {
      "byteLimit": 2048000,
      "rowLimit": 10000
     },
     "inputWidgets": {},
     "nuid": "ca0b9e1d-2567-44ea-8fb3-e25bc1ea7e71",
     "showTitle": false,
     "tableResultSettingsMap": {},
     "title": ""
    }
   },
   "source": [
    "# "
   ]
  },
  {
   "cell_type": "markdown",
   "metadata": {
    "application/vnd.databricks.v1+cell": {
     "cellMetadata": {
      "byteLimit": 2048000,
      "rowLimit": 10000
     },
     "inputWidgets": {},
     "nuid": "ba960a3e-3dd4-4121-9821-d432ea7951f7",
     "showTitle": false,
     "tableResultSettingsMap": {},
     "title": ""
    }
   },
   "source": [
    "# **_# Task 3 Start_**\n",
    "\n",
    "The current catalog has already been selected for you; Please check which tables exist in this catalog via code\n"
   ]
  },
  {
   "cell_type": "code",
   "execution_count": 0,
   "metadata": {
    "application/vnd.databricks.v1+cell": {
     "cellMetadata": {
      "byteLimit": 2048000,
      "rowLimit": 10000
     },
     "inputWidgets": {},
     "nuid": "83994a3d-606f-4dab-a7bb-bffa0969c5b8",
     "showTitle": true,
     "tableResultSettingsMap": {},
     "title": "As you can see, our tables are available under our catalog."
    }
   },
   "outputs": [],
   "source": [
    "/* YOUR CODE HERE */"
   ]
  },
  {
   "cell_type": "code",
   "execution_count": 0,
   "metadata": {
    "application/vnd.databricks.v1+cell": {
     "cellMetadata": {
      "byteLimit": 2048000,
      "rowLimit": 10000
     },
     "inputWidgets": {},
     "nuid": "0d97e6bc-7779-464e-bb49-e5b2d832443d",
     "showTitle": true,
     "tableResultSettingsMap": {},
     "title": "As you can see, our tables are available under our catalog."
    }
   },
   "outputs": [],
   "source": [
    "SHOW TABLES;"
   ]
  },
  {
   "cell_type": "markdown",
   "metadata": {
    "application/vnd.databricks.v1+cell": {
     "cellMetadata": {
      "byteLimit": 2048000,
      "rowLimit": 10000
     },
     "inputWidgets": {},
     "nuid": "16fbbd40-cf0e-46e0-9022-a252f9745d78",
     "showTitle": false,
     "tableResultSettingsMap": {},
     "title": ""
    }
   },
   "source": [
    "# **_Task 3 End_**"
   ]
  },
  {
   "cell_type": "markdown",
   "metadata": {
    "application/vnd.databricks.v1+cell": {
     "cellMetadata": {
      "byteLimit": 2048000,
      "rowLimit": 10000
     },
     "inputWidgets": {},
     "nuid": "b1a711dd-7e26-4407-9a57-eb646fca714a",
     "showTitle": false,
     "tableResultSettingsMap": {},
     "title": ""
    }
   },
   "source": [
    "# **_# Task 4 Start_**\n",
    "\n",
    "Lets grant our analysts group a SELECT permission on gold_transactions;\n",
    "\n",
    "Further, please also grant an extra select and modify permission to the Data Engineer group 'dataengineers' for the schema YourCatalogName.YourSchemaName.YourTableName\n",
    "\n",
    "Note: Make sure you or someone else created an analysts and dataengineers group beforehand.\n",
    "Not sure if its already there? Check via code if it exists, ask the assistant to provide you a code snippet. \n",
    "You could also use the UI -> Tipp: Click on your user icon at the top right and navigate to settings. \n"
   ]
  },
  {
   "cell_type": "code",
   "execution_count": 0,
   "metadata": {
    "application/vnd.databricks.v1+cell": {
     "cellMetadata": {
      "byteLimit": 2048000,
      "rowLimit": 10000
     },
     "inputWidgets": {},
     "nuid": "47672162-21bd-47c5-b2d4-66d0cfc09541",
     "showTitle": true,
     "tableResultSettingsMap": {},
     "title": "Granting access to Analysts & Data Engineers:"
    }
   },
   "outputs": [],
   "source": [
    "/* YOUR CODE */"
   ]
  },
  {
   "cell_type": "code",
   "execution_count": 0,
   "metadata": {
    "application/vnd.databricks.v1+cell": {
     "cellMetadata": {
      "byteLimit": 2048000,
      "rowLimit": 10000
     },
     "inputWidgets": {},
     "nuid": "1b872a66-de5a-4647-af12-fc8affd0b1d5",
     "showTitle": true,
     "tableResultSettingsMap": {},
     "title": "Granting access to Analysts & Data Engineers:"
    }
   },
   "outputs": [],
   "source": [
    "-- Let's grant our ANALYSTS a SELECT permission:\n",
    "-- Note: make sure you created an analysts and dataengineers group first.\n",
    "GRANT SELECT ON TABLE ${catalog}.${schema}.gold_transactions TO `analysts`;\n",
    "\n",
    "-- We'll grant an extra MODIFY to our Data Engineer\n",
    "GRANT SELECT, MODIFY ON SCHEMA ${catalog}.${schema} TO `dataengineers`;"
   ]
  },
  {
   "cell_type": "markdown",
   "metadata": {
    "application/vnd.databricks.v1+cell": {
     "cellMetadata": {
      "byteLimit": 2048000,
      "rowLimit": 10000
     },
     "inputWidgets": {},
     "nuid": "1335d061-c250-4fc1-ab7d-74719ce1f020",
     "showTitle": false,
     "tableResultSettingsMap": {},
     "title": ""
    }
   },
   "source": [
    "# **_Task 4 End_**"
   ]
  },
  {
   "cell_type": "markdown",
   "metadata": {
    "application/vnd.databricks.v1+cell": {
     "cellMetadata": {
      "byteLimit": 2048000,
      "rowLimit": 10000
     },
     "inputWidgets": {},
     "nuid": "d9240a27-332c-4940-a125-dfb9875f8d0a",
     "showTitle": false,
     "tableResultSettingsMap": {},
     "title": ""
    }
   },
   "source": [
    "\n",
    "## Going further with Data governance & security\n",
    "\n",
    "By bringing all your data assets together, Unity Catalog let you build a complete and simple governance to help you scale your teams.\n",
    "\n",
    "Unity Catalog can be leveraged from simple GRANT to building a complete datamesh organization.\n",
    "\n",
    "<img src=\"https://github.com/QuentinAmbard/databricks-demo/raw/main/product_demos/uc/lineage/lineage-table.gif\" style=\"float: right; margin-left: 10px\"/>\n",
    "\n",
    "### Fine-grained ACL\n",
    "\n",
    "Need more advanced control? You can chose to dynamically change your table output based on the user permissions: `dbdemos.intall('uc-01-acl')`\n",
    "\n",
    "### Secure external location (S3/ADLS/GCS)\n",
    "\n",
    "Unity Catatalog let you secure your managed table but also your external locations:  `dbdemos.intall('uc-02-external-location')`\n",
    "\n",
    "### Lineage \n",
    "\n",
    "UC automatically captures table dependencies and let you track how your data is used, including at a row level: `dbdemos.intall('uc-03-data-lineage')`\n",
    "\n",
    "This leat you analyze downstream impact, or monitor sensitive information across the entire organization (GDPR).\n",
    "\n",
    "\n",
    "### Audit log\n",
    "\n",
    "UC captures all events. Need to know who is accessing which data? Query your audit log:  `dbdemos.intall('uc-04-audit-log')`\n",
    "\n",
    "This leat you analyze downstream impact, or monitor sensitive information across the entire organization (GDPR).\n",
    "\n",
    "### Upgrading to UC\n",
    "\n",
    "Already using Databricks without UC? Upgrading your tables to benefit from Unity Catalog is simple:  `dbdemos.intall('uc-05-upgrade')`\n",
    "\n",
    "### Sharing data with external organization\n",
    "\n",
    "Sharing your data outside of your Databricks users is simple with Delta Sharing, and doesn't require your data consumers to use Databricks:  `dbdemos.intall('delta-sharing-airlines')`"
   ]
  },
  {
   "cell_type": "markdown",
   "metadata": {
    "application/vnd.databricks.v1+cell": {
     "cellMetadata": {
      "byteLimit": 2048000,
      "rowLimit": 10000
     },
     "inputWidgets": {},
     "nuid": "4270c4ce-2cfc-48b4-a108-ce4d09c30df3",
     "showTitle": false,
     "tableResultSettingsMap": {},
     "title": ""
    }
   },
   "source": [
    "# **_# Task 5 Start_**\n",
    "\n",
    "Full transparency on Billing tables, Audit Logs, Lineage are crucial. \n",
    "Research & write a simple SQL statement to monitor some details (e.g. billing logs for used compute!  \n"
   ]
  },
  {
   "cell_type": "code",
   "execution_count": 0,
   "metadata": {
    "application/vnd.databricks.v1+cell": {
     "cellMetadata": {
      "byteLimit": 2048000,
      "rowLimit": 10000
     },
     "inputWidgets": {},
     "nuid": "53433c4e-248d-40a7-82fe-a302843da3f4",
     "showTitle": true,
     "tableResultSettingsMap": {},
     "title": "Monitor Billing Tables, Audit Logs, Lineage within a notebook"
    }
   },
   "outputs": [],
   "source": [
    "/* YOUR CODE */\n"
   ]
  },
  {
   "cell_type": "code",
   "execution_count": 0,
   "metadata": {
    "application/vnd.databricks.v1+cell": {
     "cellMetadata": {
      "byteLimit": 2048000,
      "rowLimit": 10000
     },
     "inputWidgets": {},
     "nuid": "e38a6ab1-a96d-45d4-96e3-68178d09637c",
     "showTitle": false,
     "tableResultSettingsMap": {},
     "title": ""
    }
   },
   "outputs": [],
   "source": [
    "/* Solution: https://notebooks.databricks.com/demos/uc-04-system-tables/index.html */\n",
    "\n",
    "/*select * from system.billing.usage limit 50*/\n",
    "/*select * from system.access.audit limit 50*/"
   ]
  },
  {
   "cell_type": "markdown",
   "metadata": {
    "application/vnd.databricks.v1+cell": {
     "cellMetadata": {
      "byteLimit": 2048000,
      "rowLimit": 10000
     },
     "inputWidgets": {},
     "nuid": "db57aee5-3698-43e0-9197-d9783c9060f2",
     "showTitle": false,
     "tableResultSettingsMap": {},
     "title": ""
    }
   },
   "source": [
    "# **Task 5 End**\n"
   ]
  },
  {
   "cell_type": "markdown",
   "metadata": {
    "application/vnd.databricks.v1+cell": {
     "cellMetadata": {
      "byteLimit": 2048000,
      "rowLimit": 10000
     },
     "inputWidgets": {},
     "nuid": "f055169f-ab6d-4f90-9370-fcb33436c04a",
     "showTitle": false,
     "tableResultSettingsMap": {},
     "title": ""
    }
   },
   "source": [
    "# Next: Start building analysis with Databricks SQL\n",
    "\n",
    "Now that these tables are available in our Lakehouse and secured, let's see how our Data Analyst team can start leveraging them to run BI workloads\n",
    "\n",
    "Jump to the [BI / Data warehousing notebook]($../03-BI-data-warehousing/03-BI-Datawarehousing-fraud) or [Go back to the introduction]($../00-FSI-fraud-detection-introduction-lakehouse)"
   ]
  }
 ],
 "metadata": {
  "application/vnd.databricks.v1+notebook": {
   "computePreferences": null,
   "dashboards": [],
   "environmentMetadata": {
    "environment_version": "2"
   },
   "inputWidgetPreferences": null,
   "language": "sql",
   "notebookMetadata": {
    "pythonIndentUnit": 2
   },
   "notebookName": "02-UC-data-governance-ACL-fsi-fraud",
   "widgets": {
    "catalog": {
     "currentValue": "psprenger_allianz",
     "nuid": "2c6b546a-9b94-4e19-bfce-7f29516d9563",
     "typedWidgetInfo": {
      "autoCreated": false,
      "defaultValue": "psprenger_allianz",
      "label": null,
      "name": "catalog",
      "options": {
       "widgetDisplayType": "Text",
       "validationRegex": null
      },
      "parameterDataType": "String"
     },
     "widgetInfo": {
      "widgetType": "text",
      "defaultValue": "psprenger_allianz",
      "label": null,
      "name": "catalog",
      "options": {
       "widgetType": "text",
       "autoCreated": null,
       "validationRegex": null
      }
     }
    },
    "schema": {
     "currentValue": "allianz_lakehouse_fsi_fraud",
     "nuid": "09c30f39-8575-41c2-9731-b9461c2bc1cd",
     "typedWidgetInfo": {
      "autoCreated": false,
      "defaultValue": "allianz_lakehouse_fsi_fraud",
      "label": null,
      "name": "schema",
      "options": {
       "widgetDisplayType": "Text",
       "validationRegex": null
      },
      "parameterDataType": "String"
     },
     "widgetInfo": {
      "widgetType": "text",
      "defaultValue": "allianz_lakehouse_fsi_fraud",
      "label": null,
      "name": "schema",
      "options": {
       "widgetType": "text",
       "autoCreated": null,
       "validationRegex": null
      }
     }
    }
   }
  },
  "language_info": {
   "name": "sql"
  }
 },
 "nbformat": 4,
 "nbformat_minor": 0
}
