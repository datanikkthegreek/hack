{
 "cells": [
  {
   "cell_type": "markdown",
   "metadata": {
    "application/vnd.databricks.v1+cell": {
     "cellMetadata": {},
     "inputWidgets": {},
     "nuid": "5f8ec474-0c16-413a-8c3c-946ac1868875",
     "showTitle": false,
     "tableResultSettingsMap": {},
     "title": ""
    }
   },
   "source": [
    "Before we dive into building our Gen AI-powered fraud detection agent, it's essential to understand the capabilities of Databricks AI Functions. These built-in functions allow us to seamlessly apply advanced AI—such as text summarization, sentiment analysis, translation, and even custom model inference—directly on our data within Databricks, using simple SQL or notebook commands.\n",
    "\n",
    "# Task 8 Start\n",
    "\n",
    "**8.1** Write a select on YourCatalog.YourSchema.banking_customers and select firstname, lastname, address with a Limit of 10. \n",
    "Integrate the ai_query function. Use the 'databricks-meta-llama-3-3-70b-instruct' LLM, write a brief prompt telling it to only extract the postcodes from column address. Execute your query with a Limit 10;\n",
    "\n",
    "Leverage the assistant for help or check the documentation https://docs.databricks.com/aws/en/sql/language-manual/functions/ai_query\n"
   ]
  },
  {
   "cell_type": "code",
   "execution_count": 0,
   "metadata": {
    "application/vnd.databricks.v1+cell": {
     "cellMetadata": {
      "byteLimit": 2048000,
      "rowLimit": 10000
     },
     "inputWidgets": {},
     "nuid": "4ce6e6a9-028a-40e7-a551-d557d6bb3317",
     "showTitle": false,
     "tableResultSettingsMap": {},
     "title": ""
    }
   },
   "outputs": [],
   "source": [
    "%run ../config"
   ]
  },
  {
   "cell_type": "code",
   "execution_count": 0,
   "metadata": {
    "application/vnd.databricks.v1+cell": {
     "cellMetadata": {
      "byteLimit": 2048000,
      "rowLimit": 10000
     },
     "inputWidgets": {},
     "nuid": "cffb59c4-10f1-4475-a6ea-0256271d934e",
     "showTitle": false,
     "tableResultSettingsMap": {},
     "title": ""
    }
   },
   "outputs": [],
   "source": [
    "%python\n",
    "dbutils.widgets.text(\"catalog\", catalog)\n",
    "dbutils.widgets.text(\"schema\", schema)"
   ]
  },
  {
   "cell_type": "code",
   "execution_count": 0,
   "metadata": {
    "application/vnd.databricks.v1+cell": {
     "cellMetadata": {},
     "inputWidgets": {},
     "nuid": "697a7f6d-1ec5-4968-a061-df6544eb0130",
     "showTitle": false,
     "tableResultSettingsMap": {},
     "title": ""
    }
   },
   "outputs": [],
   "source": [
    "# YOUR SQL CODE HERE"
   ]
  },
  {
   "cell_type": "code",
   "execution_count": 0,
   "metadata": {
    "application/vnd.databricks.v1+cell": {
     "cellMetadata": {
      "byteLimit": 2048000,
      "implicitDf": true,
      "rowLimit": 10000
     },
     "inputWidgets": {},
     "nuid": "20cc4814-94e8-4474-88c9-3b05948b8c94",
     "showTitle": false,
     "tableResultSettingsMap": {},
     "title": ""
    }
   },
   "outputs": [],
   "source": [
    "%sql\n",
    "SELECT\n",
    "  firstname,\n",
    "  lastname,\n",
    "  address,\n",
    "  ai_query(\n",
    "    'databricks-meta-llama-3-3-70b-instruct',\n",
    "    'Extract the postcode and only output the postcode from: ' || address\n",
    "  ) AS Postcode\n",
    "FROM ${catalog}.${schema}.banking_customers\n",
    "LIMIT 10;"
   ]
  },
  {
   "cell_type": "markdown",
   "metadata": {
    "application/vnd.databricks.v1+cell": {
     "cellMetadata": {},
     "inputWidgets": {},
     "nuid": "61baaff7-951b-456c-b926-ea6a99b86935",
     "showTitle": false,
     "tableResultSettingsMap": {},
     "title": ""
    }
   },
   "source": [
    "## _**Task**_ 8.2\n",
    "\n",
    "While the ai_query is a general purpose function, specific ai queries such as ai_classify, ai_analyze_sentiment or ai_translate exists too. \n",
    "A full listing can be found [here.](https://docs.databricks.com/aws/en/large-language-models/ai-functions)\n",
    "\n",
    "Use the ai_translate function to write a SQL statement, that translates the type column in YourCatalog.YourSchema.gold_transactions into a preferable language of your choice! Appyl a Limit 10;"
   ]
  },
  {
   "cell_type": "code",
   "execution_count": 0,
   "metadata": {
    "application/vnd.databricks.v1+cell": {
     "cellMetadata": {
      "byteLimit": 2048000,
      "implicitDf": true,
      "rowLimit": 10000
     },
     "inputWidgets": {},
     "nuid": "6806308a-4b1c-4e51-ae2a-620615dd58e9",
     "showTitle": false,
     "tableResultSettingsMap": {},
     "title": ""
    }
   },
   "outputs": [],
   "source": [
    "%sql\n",
    "SELECT\n",
    "  type,\n",
    "  ai_translate(type, 'ger') AS type_german\n",
    "FROM\n",
    "  ${catalog}.${schema}.gold_transactions\n",
    "LIMIT 10;\n"
   ]
  },
  {
   "cell_type": "markdown",
   "metadata": {
    "application/vnd.databricks.v1+cell": {
     "cellMetadata": {},
     "inputWidgets": {},
     "nuid": "dd2c1893-a2fb-4e25-812c-27007d77a7c1",
     "showTitle": false,
     "tableResultSettingsMap": {},
     "title": ""
    }
   },
   "source": [
    "# **_Task 8 END_**"
   ]
  }
 ],
 "metadata": {
  "application/vnd.databricks.v1+notebook": {
   "computePreferences": null,
   "dashboards": [],
   "environmentMetadata": {
    "base_environment": "",
    "environment_version": "2"
   },
   "inputWidgetPreferences": null,
   "language": "python",
   "notebookMetadata": {
    "mostRecentlyExecutedCommandWithImplicitDF": {
     "commandId": 2013334455489918,
     "dataframes": [
      "_sqldf"
     ]
    },
    "pythonIndentUnit": 2
   },
   "notebookName": "05-0-AI-Function-Basics",
   "widgets": {
    "catalog": {
     "currentValue": "psprenger_allianz",
     "nuid": "e0363b82-15de-4db1-940e-dcae456b5151",
     "typedWidgetInfo": {
      "autoCreated": false,
      "defaultValue": "psprenger_allianz",
      "label": null,
      "name": "catalog",
      "options": {
       "widgetDisplayType": "Text",
       "validationRegex": null
      },
      "parameterDataType": "String"
     },
     "widgetInfo": {
      "widgetType": "text",
      "defaultValue": "psprenger_allianz",
      "label": null,
      "name": "catalog",
      "options": {
       "widgetType": "text",
       "autoCreated": false,
       "validationRegex": null
      }
     }
    },
    "schema": {
     "currentValue": "allianz_lakehouse_fsi_fraud",
     "nuid": "ccc5c7ab-c6c7-4bea-b1a3-7be02f89c6c9",
     "typedWidgetInfo": {
      "autoCreated": false,
      "defaultValue": "allianz_lakehouse_fsi_fraud",
      "label": null,
      "name": "schema",
      "options": {
       "widgetDisplayType": "Text",
       "validationRegex": null
      },
      "parameterDataType": "String"
     },
     "widgetInfo": {
      "widgetType": "text",
      "defaultValue": "allianz_lakehouse_fsi_fraud",
      "label": null,
      "name": "schema",
      "options": {
       "widgetType": "text",
       "autoCreated": false,
       "validationRegex": null
      }
     }
    }
   }
  },
  "language_info": {
   "name": "python"
  }
 },
 "nbformat": 4,
 "nbformat_minor": 0
}
