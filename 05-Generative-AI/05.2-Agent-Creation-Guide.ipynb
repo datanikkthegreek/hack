{
 "cells": [
  {
   "cell_type": "markdown",
   "metadata": {
    "application/vnd.databricks.v1+cell": {
     "cellMetadata": {},
     "inputWidgets": {},
     "nuid": "759f832e-f1be-4ffa-9d19-3b658e405a7b",
     "showTitle": false,
     "tableResultSettingsMap": {},
     "title": ""
    }
   },
   "source": [
    "# **_Task 10_**\n",
    "# 🚀 Deploying Your AI Functions with Databricks AI Agents\n",
    "\n",
    "In this notebook, you'll learn how to take the functions you defined in your previous Databricks notebook and integrate them into a **Databricks AI Agent**. This will allow you to use them in applications, the Databricks Playground, or other contexts where AI-driven functionality is needed.\n",
    "\n",
    "We'll walk through the process step by step, with **GIFs** to guide you along the way. By the end, you'll have a working AI Agent powered by your own functions, ready to deploy and use. Let's get started!\n",
    "\n",
    "<!-- Collect usage data (view). Remove it to disable collection or disable tracker during installation. View README for more details.  -->\n",
    "<img width=\"1px\" src=\"https://ppxrzfxige.execute-api.us-west-2.amazonaws.com/v1/analytics?category=lakehouse&org_id=984752964297111&notebook=%2F05-Generative-AI%2F05.2-Agent-Creation-Guide&demo_name=lakehouse-fsi-fraud&event=VIEW&path=%2F_dbdemos%2Flakehouse%2Flakehouse-fsi-fraud%2F05-Generative-AI%2F05.2-Agent-Creation-Guide&version=1&user_hash=086247655aad7f847fc5af0bced92d31b6454844129a39a1b73eef221886867a\">"
   ]
  },
  {
   "cell_type": "markdown",
   "metadata": {
    "application/vnd.databricks.v1+cell": {
     "cellMetadata": {},
     "inputWidgets": {},
     "nuid": "7de7dc46-f1b1-4db9-b3a6-504c83a67181",
     "showTitle": false,
     "tableResultSettingsMap": {},
     "title": ""
    }
   },
   "source": [
    "## Step 1: Prepare Your Workspace\n",
    "\n",
    "### Quick Setup Tips\n",
    "* 📌 Duplicate this browser window\n",
    "* 💡 Keep this guide open for reference\n",
    "* 🎯 Arrange windows side-by-side\n",
    "\n",
    "This simple preparation will make your journey much smoother! 😎"
   ]
  },
  {
   "cell_type": "markdown",
   "metadata": {
    "application/vnd.databricks.v1+cell": {
     "cellMetadata": {},
     "inputWidgets": {},
     "nuid": "5e73337a-18bc-4a75-a0ea-2e5dbe238a3d",
     "showTitle": false,
     "tableResultSettingsMap": {},
     "title": ""
    }
   },
   "source": [
    "## Step 2: Access the Databricks Playground\n",
    "\n",
    "<hr>\n",
    "\n",
    "<div style=\"float: right; width: 70%;\">\n",
    "  <img \n",
    "    src=\"https://raw.githubusercontent.com/databricks-demos/dbdemos-resources/refs/heads/main/images/\\\n",
    "cross_demo_assets/AI_Agent_GIFs/AI_agent_open_playground.gif\" \n",
    "    alt=\"Opening the Playground\" \n",
    "    width=\"100%\"\n",
    "  >\n",
    "</div>\n",
    "\n",
    "### Location Guide\n",
    "\n",
    "Find the **Playground** under the **Machine Learning** section in your Databricks Workspace's left sidebar."
   ]
  },
  {
   "cell_type": "markdown",
   "metadata": {
    "application/vnd.databricks.v1+cell": {
     "cellMetadata": {},
     "inputWidgets": {},
     "nuid": "b3138854-14ec-4e79-8bf8-212d66649ea6",
     "showTitle": false,
     "tableResultSettingsMap": {},
     "title": ""
    }
   },
   "source": [
    "## Step 3: Configure Your Agent Functions\n",
    "\n",
    "<hr>\n",
    "\n",
    "<div style=\"float: right; width: 70%;\">\n",
    "  <img \n",
    "    src=\"https://raw.githubusercontent.com/databricks-demos/dbdemos-resources/refs/heads/main/images/\\\n",
    "cross_demo_assets/AI_Agent_GIFs/AI_agent_function_selection.gif\" \n",
    "    alt=\"Function Selection\" \n",
    "    width=\"100%\"\n",
    "  >\n",
    "</div>\n",
    "\n",
    "### Location Guide\n",
    "\n",
    "Your functions are organized in Unity Catalog using this structure:\n",
    "\n",
    "#### Example Path:\n",
    "`my_catalog.my_schema.my_awesome_function`\n",
    "\n",
    "💡 Note: Replace the example names with your actual catalog and schema names."
   ]
  },
  {
   "cell_type": "markdown",
   "metadata": {
    "application/vnd.databricks.v1+cell": {
     "cellMetadata": {},
     "inputWidgets": {},
     "nuid": "b89204ed-e625-4f90-b032-c5ffab33478d",
     "showTitle": false,
     "tableResultSettingsMap": {},
     "title": ""
    }
   },
   "source": [
    "## Step 4: Export Your Agent\n",
    "\n",
    "<hr>\n",
    "\n",
    "<div style=\"float: right; width: 70%;\">\n",
    "  <img \n",
    "    src=\"https://raw.githubusercontent.com/databricks-demos/dbdemos-resources/refs/heads/main/images/\\\n",
    "cross_demo_assets/AI_Agent_GIFs/AI_agent_export_from_playground.gif\" \n",
    "    alt=\"Exporting Agent\" \n",
    "    width=\"100%\"\n",
    "  >\n",
    "</div>\n",
    "\n",
    "### Export Checklist\n",
    "* ✅ Verify all of the functions from 05.1-Agent-Functions-Creation (_or more that you may have added_) are **selected tools** in the Playground.\n",
    "* ✅ Click the \"_Export_\" button in the Playground\n",
    "* ✅ Save the exported notebooks to this directory (**\"YOUR_WORKSPACE_PATH/05-Generative-AI/\"**)"
   ]
  },
  {
   "cell_type": "markdown",
   "metadata": {
    "application/vnd.databricks.v1+cell": {
     "cellMetadata": {},
     "inputWidgets": {},
     "nuid": "63020588-19ad-4e45-b78a-99a509ed7bf5",
     "showTitle": false,
     "tableResultSettingsMap": {},
     "title": ""
    }
   },
   "source": [
    "## 🚀 Step 5: Deploy Your AI Agent\n",
    "\n",
    "### Final Steps\n",
    "1. Navigate to where your exported \"driver\" notebook is located.\n",
    "2. Follow that notebook's documentation and guide.\n",
    "3. Close this notebook. You may proceeed to using the \"driver\" and \"agent\" notebooks from here. \n",
    "\n"
   ]
  },
  {
   "cell_type": "markdown",
   "metadata": {
    "application/vnd.databricks.v1+cell": {
     "cellMetadata": {},
     "inputWidgets": {},
     "nuid": "910b8bab-b772-40c9-99f5-237633d02695",
     "showTitle": false,
     "tableResultSettingsMap": {},
     "title": ""
    }
   },
   "source": [
    "### What's next after you finish this notebook?\n",
    "* 🔍 **Agent Evaluation:** Test and validate performance\n",
    "* 🌟 **Agent Deployment:** Place your agent in a Databricks App or in the Playground for others to use!\n",
    "* ⚙️ **Additional Agent Features:** _and much more!_\n"
   ]
  },
  {
   "cell_type": "markdown",
   "metadata": {
    "application/vnd.databricks.v1+cell": {
     "cellMetadata": {},
     "inputWidgets": {},
     "nuid": "424b72cd-e73f-4794-8c04-fea57b8d2444",
     "showTitle": false,
     "tableResultSettingsMap": {},
     "title": ""
    }
   },
   "source": [
    "Interested in finishing up this demo? Check out [in the orchestration notebook]($../06-Workflow-orchestration/06-Workflow-orchestration-fsi-fraud)"
   ]
  }
 ],
 "metadata": {
  "application/vnd.databricks.v1+notebook": {
   "computePreferences": null,
   "dashboards": [],
   "environmentMetadata": {
    "environment_version": "2"
   },
   "inputWidgetPreferences": null,
   "language": "python",
   "notebookMetadata": {
    "pythonIndentUnit": 2
   },
   "notebookName": "05.2-Agent-Creation-Guide",
   "widgets": {}
  },
  "language_info": {
   "name": "python"
  }
 },
 "nbformat": 4,
 "nbformat_minor": 0
}
